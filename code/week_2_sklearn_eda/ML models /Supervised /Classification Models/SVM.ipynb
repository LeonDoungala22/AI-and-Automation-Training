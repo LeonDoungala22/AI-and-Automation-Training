{
 "cells": [
  {
   "cell_type": "markdown",
   "id": "70452ad6-eaa9-4cd6-b8bb-86d3aa8914fd",
   "metadata": {},
   "source": [
    "## Support Vector Machine ( SVM ) "
   ]
  },
  {
   "cell_type": "code",
   "execution_count": null,
   "id": "4a7312fe-87d3-441e-9c15-11a73909d836",
   "metadata": {},
   "outputs": [],
   "source": []
  },
  {
   "cell_type": "code",
   "execution_count": null,
   "id": "5dac66f6-5932-4cce-ac43-e19cab70e393",
   "metadata": {},
   "outputs": [],
   "source": []
  },
  {
   "cell_type": "code",
   "execution_count": null,
   "id": "337e94e5-91ab-45cf-860a-1f87b677c365",
   "metadata": {},
   "outputs": [],
   "source": []
  },
  {
   "cell_type": "code",
   "execution_count": null,
   "id": "23b4bda0-d201-491d-b58c-32ef000ceb22",
   "metadata": {},
   "outputs": [],
   "source": []
  },
  {
   "cell_type": "code",
   "execution_count": null,
   "id": "ead7dfe3-df45-4c28-838c-41924a90c208",
   "metadata": {},
   "outputs": [],
   "source": []
  },
  {
   "cell_type": "code",
   "execution_count": null,
   "id": "eba7a4b4-a18c-416b-839a-63ee7be26765",
   "metadata": {},
   "outputs": [],
   "source": []
  },
  {
   "cell_type": "code",
   "execution_count": null,
   "id": "fcdac426-f41b-4234-b210-f33d6ccb2e61",
   "metadata": {},
   "outputs": [],
   "source": []
  },
  {
   "cell_type": "code",
   "execution_count": null,
   "id": "7992b3f6-33ac-4467-882d-c6a5d146b729",
   "metadata": {},
   "outputs": [],
   "source": []
  },
  {
   "cell_type": "code",
   "execution_count": null,
   "id": "f69531e9-cbcc-42a9-a2c5-cd8e12ba858c",
   "metadata": {},
   "outputs": [],
   "source": []
  },
  {
   "cell_type": "code",
   "execution_count": null,
   "id": "f74cd21c-da83-442c-b269-cbdcc668d5cf",
   "metadata": {},
   "outputs": [],
   "source": []
  },
  {
   "cell_type": "code",
   "execution_count": null,
   "id": "49f47dc8-5c4f-4ff1-9288-41aecc01b7da",
   "metadata": {},
   "outputs": [],
   "source": []
  },
  {
   "cell_type": "code",
   "execution_count": null,
   "id": "df8868a3-d204-43e3-91ed-aa3c20e285d7",
   "metadata": {},
   "outputs": [],
   "source": []
  },
  {
   "cell_type": "code",
   "execution_count": null,
   "id": "39ce6b5d-d33a-48a7-a8ec-5e69d188e38b",
   "metadata": {},
   "outputs": [],
   "source": []
  },
  {
   "cell_type": "code",
   "execution_count": null,
   "id": "83e2cdd3-0a3d-43ef-ba0c-63973d5b9826",
   "metadata": {},
   "outputs": [],
   "source": []
  }
 ],
 "metadata": {
  "kernelspec": {
   "display_name": "Python 3 (ipykernel)",
   "language": "python",
   "name": "python3"
  },
  "language_info": {
   "codemirror_mode": {
    "name": "ipython",
    "version": 3
   },
   "file_extension": ".py",
   "mimetype": "text/x-python",
   "name": "python",
   "nbconvert_exporter": "python",
   "pygments_lexer": "ipython3",
   "version": "3.11.5"
  }
 },
 "nbformat": 4,
 "nbformat_minor": 5
}
