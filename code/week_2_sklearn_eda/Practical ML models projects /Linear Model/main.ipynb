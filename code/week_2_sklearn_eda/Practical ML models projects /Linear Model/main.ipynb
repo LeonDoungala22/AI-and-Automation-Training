{
 "cells": [
  {
   "cell_type": "code",
   "execution_count": null,
   "id": "f93e9c46-b407-4e0a-8ef1-c2b03c9ccfa0",
   "metadata": {},
   "outputs": [],
   "source": []
  }
 ],
 "metadata": {
  "kernelspec": {
   "display_name": "Python 3 (ipykernel)",
   "language": "python",
   "name": "python3"
  },
  "language_info": {
   "codemirror_mode": {
    "name": "ipython",
    "version": 3
   },
   "file_extension": ".py",
   "mimetype": "text/x-python",
   "name": "python",
   "nbconvert_exporter": "python",
   "pygments_lexer": "ipython3",
   "version": "3.11.5"
  }
 },
 "nbformat": 4,
 "nbformat_minor": 5
}
